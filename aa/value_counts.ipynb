{
 "cells": [
  {
   "cell_type": "code",
   "execution_count": 1,
   "id": "0744c1bb-2d0d-408f-aefc-5f8b836a9ca5",
   "metadata": {},
   "outputs": [],
   "source": [
    "import pandas as pd"
   ]
  },
  {
   "cell_type": "code",
   "execution_count": 2,
   "id": "601b7377-4d7f-4fd8-a473-96a31dae665e",
   "metadata": {},
   "outputs": [],
   "source": [
    "df = pd.read_csv('colab_clean.csv')"
   ]
  },
  {
   "cell_type": "code",
   "execution_count": 3,
   "id": "3ffd75b0-372a-4f39-a28f-4c3ff753baaa",
   "metadata": {},
   "outputs": [
    {
     "data": {
      "text/plain": [
       "Index(['text', 'author'], dtype='object')"
      ]
     },
     "execution_count": 3,
     "metadata": {},
     "output_type": "execute_result"
    }
   ],
   "source": [
    "df.columns"
   ]
  },
  {
   "cell_type": "code",
   "execution_count": 4,
   "id": "e7a535e8-d8cd-4aa5-865f-30fa17c74d7a",
   "metadata": {},
   "outputs": [
    {
     "data": {
      "text/plain": [
       "arvind_jadhav              5446\n",
       "vidya_bhutkar              3851\n",
       "preeti_chhatre             3433\n",
       "chaitanya_raskar           3362\n",
       "madhuri_thakur             3317\n",
       "saee_keskar                3162\n",
       "charudatta_ramtirthikar    2961\n",
       "satyajeet_kharkar          2801\n",
       "sameer_gaikwad             2736\n",
       "mohana_jogale              1572\n",
       "aniket_yewale              1491\n",
       "dhananjay_awale             907\n",
       "Name: author, dtype: int64"
      ]
     },
     "execution_count": 4,
     "metadata": {},
     "output_type": "execute_result"
    }
   ],
   "source": [
    "df['author'].value_counts()"
   ]
  },
  {
   "cell_type": "code",
   "execution_count": null,
   "id": "134dc75f-5499-4cf0-b668-d6abe9f83463",
   "metadata": {},
   "outputs": [],
   "source": []
  }
 ],
 "metadata": {
  "kernelspec": {
   "display_name": "Python 3",
   "language": "python",
   "name": "python3"
  },
  "language_info": {
   "codemirror_mode": {
    "name": "ipython",
    "version": 3
   },
   "file_extension": ".py",
   "mimetype": "text/x-python",
   "name": "python",
   "nbconvert_exporter": "python",
   "pygments_lexer": "ipython3",
   "version": "3.8.3"
  }
 },
 "nbformat": 4,
 "nbformat_minor": 5
}
