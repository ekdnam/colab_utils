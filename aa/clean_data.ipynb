{
 "cells": [
  {
   "cell_type": "code",
   "execution_count": 1,
   "id": "1813bdbf-779b-4513-be68-ce5359492318",
   "metadata": {},
   "outputs": [],
   "source": [
    "import pandas as pd"
   ]
  },
  {
   "cell_type": "code",
   "execution_count": 22,
   "id": "ca24890a-405a-426d-95c2-19383aa6a98f",
   "metadata": {},
   "outputs": [],
   "source": [
    "df = pd.read_csv('colab_author_clean.csv')"
   ]
  },
  {
   "cell_type": "code",
   "execution_count": 23,
   "id": "e37a8d5b-578b-40c7-8c92-b5b79967afdf",
   "metadata": {},
   "outputs": [
    {
     "data": {
      "text/plain": [
       "35090"
      ]
     },
     "execution_count": 23,
     "metadata": {},
     "output_type": "execute_result"
    }
   ],
   "source": [
    "len(df)"
   ]
  },
  {
   "cell_type": "code",
   "execution_count": 24,
   "id": "35c4d30b-d8c5-4a52-8bb8-0751d38a3dcc",
   "metadata": {},
   "outputs": [],
   "source": [
    "df['cleaned_text'] = df['text'].astype(str).str.replace('\"\"\"', ' ')"
   ]
  },
  {
   "cell_type": "code",
   "execution_count": 25,
   "id": "5cbbd437-0ba7-42bb-8bbf-0e7d0d42bfd4",
   "metadata": {},
   "outputs": [],
   "source": [
    "df['cleaned_text'] = df['text'].astype(str).str.replace('\"\"', ' ')"
   ]
  },
  {
   "cell_type": "code",
   "execution_count": 26,
   "id": "6d3b4458-abfe-4ed9-9d31-f32a63528a93",
   "metadata": {},
   "outputs": [
    {
     "data": {
      "text/html": [
       "<div>\n",
       "<style scoped>\n",
       "    .dataframe tbody tr th:only-of-type {\n",
       "        vertical-align: middle;\n",
       "    }\n",
       "\n",
       "    .dataframe tbody tr th {\n",
       "        vertical-align: top;\n",
       "    }\n",
       "\n",
       "    .dataframe thead th {\n",
       "        text-align: right;\n",
       "    }\n",
       "</style>\n",
       "<table border=\"1\" class=\"dataframe\">\n",
       "  <thead>\n",
       "    <tr style=\"text-align: right;\">\n",
       "      <th></th>\n",
       "      <th>text</th>\n",
       "      <th>author</th>\n",
       "      <th>cleaned_text</th>\n",
       "    </tr>\n",
       "  </thead>\n",
       "  <tbody>\n",
       "    <tr>\n",
       "      <th>0</th>\n",
       "      <td>मित्रहो !</td>\n",
       "      <td>aniket_yewale</td>\n",
       "      <td>मित्रहो !</td>\n",
       "    </tr>\n",
       "    <tr>\n",
       "      <th>1</th>\n",
       "      <td>रोजच्या या आपल्या धकाधकीच्या रूटीन मध्ये आपण ख...</td>\n",
       "      <td>aniket_yewale</td>\n",
       "      <td>रोजच्या या आपल्या धकाधकीच्या रूटीन मध्ये आपण ख...</td>\n",
       "    </tr>\n",
       "    <tr>\n",
       "      <th>2</th>\n",
       "      <td>की जर आपल्याला स्ट्रेस घेण्याची वेळच नाही आली तर?</td>\n",
       "      <td>aniket_yewale</td>\n",
       "      <td>की जर आपल्याला स्ट्रेस घेण्याची वेळच नाही आली तर?</td>\n",
       "    </tr>\n",
       "    <tr>\n",
       "      <th>3</th>\n",
       "      <td>हो हे शक्य आहे. . . अर्थात मी इथे कोणत्याही प्...</td>\n",
       "      <td>aniket_yewale</td>\n",
       "      <td>हो हे शक्य आहे. . . अर्थात मी इथे कोणत्याही प्...</td>\n",
       "    </tr>\n",
       "    <tr>\n",
       "      <th>4</th>\n",
       "      <td>. . . स्ट्रेस घालवण्याचा सर्वांत सोप्पा आणि ज...</td>\n",
       "      <td>aniket_yewale</td>\n",
       "      <td>. . . स्ट्रेस घालवण्याचा सर्वांत सोप्पा आणि ज...</td>\n",
       "    </tr>\n",
       "  </tbody>\n",
       "</table>\n",
       "</div>"
      ],
      "text/plain": [
       "                                                text         author  \\\n",
       "0                                          मित्रहो !  aniket_yewale   \n",
       "1  रोजच्या या आपल्या धकाधकीच्या रूटीन मध्ये आपण ख...  aniket_yewale   \n",
       "2  की जर आपल्याला स्ट्रेस घेण्याची वेळच नाही आली तर?  aniket_yewale   \n",
       "3  हो हे शक्य आहे. . . अर्थात मी इथे कोणत्याही प्...  aniket_yewale   \n",
       "4   . . . स्ट्रेस घालवण्याचा सर्वांत सोप्पा आणि ज...  aniket_yewale   \n",
       "\n",
       "                                        cleaned_text  \n",
       "0                                          मित्रहो !  \n",
       "1  रोजच्या या आपल्या धकाधकीच्या रूटीन मध्ये आपण ख...  \n",
       "2  की जर आपल्याला स्ट्रेस घेण्याची वेळच नाही आली तर?  \n",
       "3  हो हे शक्य आहे. . . अर्थात मी इथे कोणत्याही प्...  \n",
       "4   . . . स्ट्रेस घालवण्याचा सर्वांत सोप्पा आणि ज...  "
      ]
     },
     "execution_count": 26,
     "metadata": {},
     "output_type": "execute_result"
    }
   ],
   "source": [
    "df.head()"
   ]
  },
  {
   "cell_type": "code",
   "execution_count": 27,
   "id": "55e35a5e-3f7a-4aa1-9206-da332ae48d42",
   "metadata": {},
   "outputs": [
    {
     "name": "stdout",
     "output_type": "stream",
     "text": [
      "    text         author cleaned_text\n",
      "670    ?  aniket_yewale            ?\n"
     ]
    }
   ],
   "source": [
    "print(df.loc[[670]])"
   ]
  },
  {
   "cell_type": "code",
   "execution_count": 28,
   "id": "22c083e1-93d6-4d49-8def-1058064df42e",
   "metadata": {},
   "outputs": [],
   "source": [
    "df['cleaned_text'] = df['text'].astype(str).str.rstrip('“').str.lstrip(\"”\")"
   ]
  },
  {
   "cell_type": "code",
   "execution_count": 29,
   "id": "e8b7098d-fef8-4fc0-bde4-df1c12761dd4",
   "metadata": {},
   "outputs": [
    {
     "name": "stdout",
     "output_type": "stream",
     "text": [
      "                                     text         author  \\\n",
      "422  \"अहो, टीचर खरंच नाही माझ्याकडे काही.  aniket_yewale   \n",
      "\n",
      "                             cleaned_text  \n",
      "422  \"अहो, टीचर खरंच नाही माझ्याकडे काही.  \n"
     ]
    }
   ],
   "source": [
    "print(df.loc[[422]])"
   ]
  },
  {
   "cell_type": "code",
   "execution_count": 18,
   "id": "11570758-04ef-4ec4-9503-8195cf32f6ea",
   "metadata": {},
   "outputs": [],
   "source": [
    "# df.to_csv('cleaned.csv', index=False)"
   ]
  },
  {
   "cell_type": "code",
   "execution_count": 34,
   "id": "6ac1b56e-8335-42cb-bd23-7c9e91eb98e5",
   "metadata": {},
   "outputs": [],
   "source": [
    "new_df = pd.DataFrame()\n",
    "new_df['text'] = df['cleaned_text']\n",
    "new_df['author'] = df['author']\n",
    "\n",
    "new_df.to_csv('colab_clean.csv', index=False)"
   ]
  },
  {
   "cell_type": "code",
   "execution_count": 32,
   "id": "376d2b9a-31df-4f1f-bbee-57cec267a27b",
   "metadata": {},
   "outputs": [
    {
     "data": {
      "text/plain": [
       "35090"
      ]
     },
     "execution_count": 32,
     "metadata": {},
     "output_type": "execute_result"
    }
   ],
   "source": [
    "len(new_df)"
   ]
  },
  {
   "cell_type": "code",
   "execution_count": 33,
   "id": "0311ddcc-49be-41c7-b9ad-bcf74823fdcf",
   "metadata": {},
   "outputs": [
    {
     "data": {
      "text/plain": [
       "35090"
      ]
     },
     "execution_count": 33,
     "metadata": {},
     "output_type": "execute_result"
    }
   ],
   "source": [
    "len(df)"
   ]
  },
  {
   "cell_type": "code",
   "execution_count": null,
   "id": "af660fe1-6564-4062-a518-a039c45bb779",
   "metadata": {},
   "outputs": [],
   "source": []
  }
 ],
 "metadata": {
  "kernelspec": {
   "display_name": "Python 3",
   "language": "python",
   "name": "python3"
  },
  "language_info": {
   "codemirror_mode": {
    "name": "ipython",
    "version": 3
   },
   "file_extension": ".py",
   "mimetype": "text/x-python",
   "name": "python",
   "nbconvert_exporter": "python",
   "pygments_lexer": "ipython3",
   "version": "3.8.3"
  }
 },
 "nbformat": 4,
 "nbformat_minor": 5
}
